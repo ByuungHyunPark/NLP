{
 "cells": [
  {
   "cell_type": "markdown",
   "metadata": {},
   "source": [
    "참고링크 : https://lovit.github.io/nlp/2019/04/30/textrank/"
   ]
  },
  {
   "cell_type": "code",
   "execution_count": 25,
   "metadata": {},
   "outputs": [],
   "source": [
    "from konlpy.tag import Komoran\n",
    "\n",
    "import pandas as pd\n",
    "import numpy as np\n",
    "\n",
    "from textrank import KeywordSummarizer\n",
    "from textrank import KeysentenceSummarizer"
   ]
  },
  {
   "cell_type": "code",
   "execution_count": 22,
   "metadata": {
    "scrolled": true
   },
   "outputs": [
    {
     "data": {
      "text/html": [
       "<div>\n",
       "<style scoped>\n",
       "    .dataframe tbody tr th:only-of-type {\n",
       "        vertical-align: middle;\n",
       "    }\n",
       "\n",
       "    .dataframe tbody tr th {\n",
       "        vertical-align: top;\n",
       "    }\n",
       "\n",
       "    .dataframe thead th {\n",
       "        text-align: right;\n",
       "    }\n",
       "</style>\n",
       "<table border=\"1\" class=\"dataframe\">\n",
       "  <thead>\n",
       "    <tr style=\"text-align: right;\">\n",
       "      <th></th>\n",
       "      <th>0</th>\n",
       "      <th>1</th>\n",
       "      <th>2</th>\n",
       "      <th>3</th>\n",
       "      <th>4</th>\n",
       "      <th>5</th>\n",
       "    </tr>\n",
       "  </thead>\n",
       "  <tbody>\n",
       "    <tr>\n",
       "      <th>0</th>\n",
       "      <td>20191101</td>\n",
       "      <td>정치</td>\n",
       "      <td>매일경제</td>\n",
       "      <td>육사·공사 입학시험 채점 오류로 43명 불합격</td>\n",
       "      <td>알고도 1년간 뒷짐 국방부 연합뉴스 지난해 7월 육군·공군사관학교 신입 생도를 뽑는...</td>\n",
       "      <td>https://news.naver.com/main/read.nhn?mode=LSD&amp;...</td>\n",
       "    </tr>\n",
       "    <tr>\n",
       "      <th>1</th>\n",
       "      <td>20191101</td>\n",
       "      <td>정치</td>\n",
       "      <td>조선일보</td>\n",
       "      <td>나경원 정의용 우기지말라에 강기정 우기다가 뭐야 반말 항의⋯靑 국감 막판 파행</td>\n",
       "      <td>野정양석 싸가지 없이 與임종성 똑바로 해 싸움 한국당 의원들 결국 퇴장 1일 국회에...</td>\n",
       "      <td>https://news.naver.com/main/read.nhn?mode=LSD&amp;...</td>\n",
       "    </tr>\n",
       "    <tr>\n",
       "      <th>2</th>\n",
       "      <td>20191101</td>\n",
       "      <td>정치</td>\n",
       "      <td>SBS</td>\n",
       "      <td>윤석열 대통령 면담 요청설에 노영민 제가 아는 한 없어</td>\n",
       "      <td>노영민 대통령 비서실장은 윤석열 검찰총장이 조국 전 법무부 장관 지명 전에 대통령 ...</td>\n",
       "      <td>https://news.naver.com/main/read.nhn?mode=LSD&amp;...</td>\n",
       "    </tr>\n",
       "  </tbody>\n",
       "</table>\n",
       "</div>"
      ],
      "text/plain": [
       "          0   1     2                                            3  \\\n",
       "0  20191101  정치  매일경제                    육사·공사 입학시험 채점 오류로 43명 불합격   \n",
       "1  20191101  정치  조선일보  나경원 정의용 우기지말라에 강기정 우기다가 뭐야 반말 항의⋯靑 국감 막판 파행   \n",
       "2  20191101  정치   SBS               윤석열 대통령 면담 요청설에 노영민 제가 아는 한 없어   \n",
       "\n",
       "                                                   4  \\\n",
       "0  알고도 1년간 뒷짐 국방부 연합뉴스 지난해 7월 육군·공군사관학교 신입 생도를 뽑는...   \n",
       "1  野정양석 싸가지 없이 與임종성 똑바로 해 싸움 한국당 의원들 결국 퇴장 1일 국회에...   \n",
       "2  노영민 대통령 비서실장은 윤석열 검찰총장이 조국 전 법무부 장관 지명 전에 대통령 ...   \n",
       "\n",
       "                                                   5  \n",
       "0  https://news.naver.com/main/read.nhn?mode=LSD&...  \n",
       "1  https://news.naver.com/main/read.nhn?mode=LSD&...  \n",
       "2  https://news.naver.com/main/read.nhn?mode=LSD&...  "
      ]
     },
     "execution_count": 22,
     "metadata": {},
     "output_type": "execute_result"
    }
   ],
   "source": [
    "c = pd.read_csv('C:/Users/user654/PycharmProjects/NewsCrawling/2019_07~12/Article_정치_201911_201911.csv', header = None)\n",
    "c.head(3)"
   ]
  },
  {
   "cell_type": "markdown",
   "metadata": {},
   "source": [
    "##### To summarize texts with key-sentences"
   ]
  },
  {
   "cell_type": "code",
   "execution_count": 36,
   "metadata": {
    "scrolled": true
   },
   "outputs": [
    {
     "data": {
      "text/plain": [
       "['알고도 1년간 뒷짐 국방부 연합뉴스 지난해 7월 육군·공군사관학교 신입 생도를 뽑는 필기시험에서 채점 오류로 인해 수험생 43명이 불합격을 한 것으로 뒤늦게 밝혀졌다',\n",
       " ' 육군·공군사관학교는 채점상 문제가 발생한 것을 알고도 1년이 넘도록 별다른 조치를 취하지 않았다',\n",
       " ' 1일 박재민 국방부 차관은 지난해 7월 28일 시행한 2019학년도 사관학교 입학생 선발 1차 필기시험에서 채점 오류를 확인해 당시 이로 인해 불합격한 43명을 구제하기로 했다 고 밝혔다',\n",
       " ' 채점 오류는 육군·해군·공군사관학교와 국군간호사관학교 등 4개 사관학교가 공동 출제한 1차 필기시험 중 국어 과목 2개 문항에서 문제지에 표기된 배점과 채점 시 배점이 다르게 적용돼 발생했다',\n",
       " ' 국방부는 1년여 뒤인 지난달 9일 국정감사에서 국회의원 요구 자료 작성 과정에서 이를 인지했고 지난달 14일부터 감사에 들어갔다',\n",
       " '']"
      ]
     },
     "execution_count": 36,
     "metadata": {},
     "output_type": "execute_result"
    }
   ],
   "source": [
    "#예시로 문장 하나를 사용함\n",
    "\n",
    "sents = c.loc[0, 4].split('.')\n",
    "sents"
   ]
  },
  {
   "cell_type": "code",
   "execution_count": 73,
   "metadata": {
    "scrolled": true
   },
   "outputs": [],
   "source": [
    "from konlpy.tag import Komoran\n",
    "\n",
    "komoran = Komoran()\n",
    "\n",
    "def komoran_tokenizer(sent):\n",
    "    words = komoran.pos(sent, join=True)\n",
    "    words = [w for w in words if ('/NN' in w or '/XR' in w in w)]\n",
    "    return words\n",
    "\n",
    "summarizer = KeysentenceSummarizer(\n",
    "    tokenize = komoran_tokenizer,\n",
    "    min_sim = 0.3,\n",
    "    verbose = False\n",
    ")\n",
    "\n",
    "keysents = summarizer.summarize(sents, topk=3)"
   ]
  },
  {
   "cell_type": "code",
   "execution_count": 74,
   "metadata": {
    "scrolled": false
   },
   "outputs": [
    {
     "name": "stdout",
     "output_type": "stream",
     "text": [
      "[(0, 1.2197485178443204, '알고도 1년간 뒷짐 국방부 연합뉴스 지난해 7월 육군·공군사관학교 신입 생도를 뽑는 필기시험에서 채점 오류로 인해 수험생 43명이 불합격을 한 것으로 뒤늦게 밝혀졌다'), (2, 1.1878440556791134, ' 1일 박재민 국방부 차관은 지난해 7월 28일 시행한 2019학년도 사관학교 입학생 선발 1차 필기시험에서 채점 오류를 확인해 당시 이로 인해 불합격한 43명을 구제하기로 했다 고 밝혔다'), (3, 1.057197604613842, ' 채점 오류는 육군·해군·공군사관학교와 국군간호사관학교 등 4개 사관학교가 공동 출제한 1차 필기시험 중 국어 과목 2개 문항에서 문제지에 표기된 배점과 채점 시 배점이 다르게 적용돼 발생했다')]\n"
     ]
    }
   ],
   "source": [
    "print(keysents)"
   ]
  },
  {
   "cell_type": "code",
   "execution_count": 75,
   "metadata": {
    "scrolled": true
   },
   "outputs": [
    {
     "data": {
      "text/plain": [
       "[('채점/NNG', 1.9638879282967157),\n",
       " ('사관학교/NNP', 1.3966511092551581),\n",
       " ('필기시험/NNG', 1.2754439524903889),\n",
       " ('육군/NNP', 1.1652107260289921),\n",
       " ('공군사관학교/NNP', 1.1652107260289921),\n",
       " ('국방부/NNP', 1.1202934091144663),\n",
       " ('일/NNB', 1.086369474000004),\n",
       " ('배점/NNG', 1.0586164652397718),\n",
       " ('개/NNB', 1.0586164652397718),\n",
       " ('차/NNB', 0.9370795762479053),\n",
       " ('발생/NNG', 0.8265081679844176),\n",
       " ('문제/NNG', 0.8265081679844176),\n",
       " ('명/NNB', 0.8145161318568714),\n",
       " ('지난해/NNG', 0.8145161318568714),\n",
       " ('인해/NNP', 0.8145161318568714),\n",
       " ('불합격/NNG', 0.8145161318568714),\n",
       " ('감사/NNG', 0.7456929342877335),\n",
       " ('지난달/NNG', 0.7456929342877334),\n",
       " ('것/NNB', 0.7027646258163579),\n",
       " ('년/NNB', 0.6673888102696851)]"
      ]
     },
     "execution_count": 75,
     "metadata": {},
     "output_type": "execute_result"
    }
   ],
   "source": [
    "from textrank import KeywordSummarizer\n",
    "\n",
    "summarizer = KeywordSummarizer(tokenize=komoran_tokenizer, min_count=2, min_cooccurrence=1)\n",
    "summarizer.summarize(sents, topk=20)"
   ]
  }
 ],
 "metadata": {
  "kernelspec": {
   "display_name": "Python 3",
   "language": "python",
   "name": "python3"
  },
  "language_info": {
   "codemirror_mode": {
    "name": "ipython",
    "version": 3
   },
   "file_extension": ".py",
   "mimetype": "text/x-python",
   "name": "python",
   "nbconvert_exporter": "python",
   "pygments_lexer": "ipython3",
   "version": "3.8.5"
  }
 },
 "nbformat": 4,
 "nbformat_minor": 4
}
