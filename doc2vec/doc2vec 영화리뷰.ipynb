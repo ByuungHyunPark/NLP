{
 "cells": [
  {
   "cell_type": "markdown",
   "metadata": {},
   "source": [
    "##### 중요 링크 : https://github.com/lovit/python_ml4tm/blob/b4b7ff9693355fb4ac342f4728606396bc81fc0d/day04_embedding_and_visualizing/day4_0_word2vec_and_doc2vec_moviereview.ipynb"
   ]
  },
  {
   "cell_type": "code",
   "execution_count": 1,
   "metadata": {},
   "outputs": [
    {
     "name": "stdout",
     "output_type": "stream",
     "text": [
      "Gensim version = 3.8.3\n"
     ]
    }
   ],
   "source": [
    "import gensim\n",
    "print('Gensim version = {}'.format(gensim.__version__))\n",
    "\n",
    "import warnings\n",
    "warnings.filterwarnings('ignore')"
   ]
  },
  {
   "cell_type": "markdown",
   "metadata": {},
   "source": [
    "##### Doc2Vec 학습\n",
    "- Doc2Vec은 학습을 하기 위해서, 각각 문서의 label이 저장되어야 함\n",
    "- 이를 위하여 TaggedDcoument라는 클래스가 이용됩니다.\n",
    "- TaggedDocument는 단어들을 words에 , 레이블 정보를 tags에 리스트 형태로 입력합니다."
   ]
  },
  {
   "cell_type": "code",
   "execution_count": 6,
   "metadata": {},
   "outputs": [],
   "source": [
    "from gensim.models import Doc2Vec\n",
    "from gensim.models.doc2vec import TaggedDocument\n",
    "from lovit_textmining_dataset.navermovie_comments import get_movie_comments_path\n"
   ]
  },
  {
   "cell_type": "code",
   "execution_count": 4,
   "metadata": {},
   "outputs": [],
   "source": [
    "class Word2VecComments:\n",
    "    def __init__(self, path, verbose=False):\n",
    "        self.path = path\n",
    "        self.verbose = verbose\n",
    "        self.n_iter = 0\n",
    "\n",
    "    def __iter__(self):\n",
    "        # <idx, texts, rates>\n",
    "        with open(self.path, encoding='utf-8') as f:\n",
    "            for i, doc in enumerate(f):\n",
    "                if self.verbose and (i % 10000 == 0):\n",
    "                    print('\\riter={}, sents={} ...'.format(self.n_iter, i), end='')\n",
    "                yield self._tokenize(doc)\n",
    "            if self.verbose:\n",
    "                print('\\riter={}, sents={} done'.format(self.n_iter, i))\n",
    "            self.n_iter += 1\n",
    "\n",
    "    def _tokenize(self, doc):\n",
    "        idx, text, rate = doc.strip().split('\\t')\n",
    "        return text.split()"
   ]
  },
  {
   "cell_type": "code",
   "execution_count": 7,
   "metadata": {
    "scrolled": true
   },
   "outputs": [],
   "source": [
    "class Doc2VecComments(Word2VecComments):\n",
    "    def _tokenize(self, doc):\n",
    "        idx, text, rate = doc.strip().split('\\t')\n",
    "        \n",
    "\n",
    "        \n",
    "        return TaggedDocument(\n",
    "                words = text.split(), tags = ['%s' % idx]\n",
    "        )\n",
    "    \n",
    "path = get_movie_comments_path(large = 'large', tokenize = 'soynlp_unsup')\n"
   ]
  },
  {
   "cell_type": "code",
   "execution_count": 8,
   "metadata": {},
   "outputs": [],
   "source": [
    "doc2vec_corpus = Doc2VecComments(path)\n"
   ]
  },
  {
   "cell_type": "code",
   "execution_count": 9,
   "metadata": {
    "scrolled": false
   },
   "outputs": [
    {
     "name": "stdout",
     "output_type": "stream",
     "text": [
      "TaggedDocument(['명불허전'], ['72523'])\n",
      "TaggedDocument(['왠지', '고사', '피의', '중간', '고사', '보다', '재미', '가', '없을듯', '해요', '만약', '보게', '된다면', '실망', '할듯'], ['72523'])\n",
      "TaggedDocument(['티아라', '사랑', '해', 'ㅜ'], ['72523'])\n",
      "TaggedDocument(['황정음', '윤시윤', '지붕킥', '인연', '김수로', '티아라', '지연', '공부의신', '인연', '너무', '너무', '재미', '있어요'], ['72523'])\n"
     ]
    }
   ],
   "source": [
    "for i, doc in enumerate(doc2vec_corpus):\n",
    "    if i > 3: break\n",
    "    print(doc)"
   ]
  },
  {
   "cell_type": "markdown",
   "metadata": {},
   "source": [
    "##### 위 데이터들을 토대로 , Doc2Vec 학습"
   ]
  },
  {
   "cell_type": "code",
   "execution_count": 11,
   "metadata": {
    "scrolled": true
   },
   "outputs": [],
   "source": [
    "doc2vec_model = Doc2Vec(doc2vec_corpus)"
   ]
  },
  {
   "cell_type": "markdown",
   "metadata": {},
   "source": [
    "##### 학습이 잘 되었는지 확인\n",
    "- 이탈자도 상당히잘 잡아내는 것을 볼 수 있습니다 ."
   ]
  },
  {
   "cell_type": "code",
   "execution_count": 14,
   "metadata": {},
   "outputs": [
    {
     "data": {
      "text/plain": [
       "[('애니', 0.6978278160095215),\n",
       " ('영회', 0.6964375972747803),\n",
       " ('양화', 0.6541847586631775),\n",
       " ('여화', 0.6242748498916626),\n",
       " ('애니메이션', 0.6152396202087402),\n",
       " ('엉화', 0.6064423322677612),\n",
       " ('영하', 0.5974350571632385),\n",
       " ('sf영화', 0.5960612297058105),\n",
       " ('영호ㅏ', 0.5897490978240967),\n",
       " ('영화였고', 0.5807294845581055)]"
      ]
     },
     "execution_count": 14,
     "metadata": {},
     "output_type": "execute_result"
    }
   ],
   "source": [
    "doc2vec_model.wv.most_similar('영화', topn=10)"
   ]
  },
  {
   "cell_type": "code",
   "execution_count": 15,
   "metadata": {},
   "outputs": [
    {
     "data": {
      "text/plain": [
       "[('톰하디', 0.8295624256134033),\n",
       " ('브래드피트', 0.8177326917648315),\n",
       " ('앤헤서웨이', 0.8141579627990723),\n",
       " ('니콜라스홀트', 0.8040615320205688),\n",
       " ('효진이', 0.7884596586227417),\n",
       " ('윌스미스', 0.7769246697425842),\n",
       " ('앤해서웨이', 0.7761462330818176),\n",
       " ('레오', 0.764072060585022),\n",
       " ('프레디', 0.7637592554092407),\n",
       " ('로다주', 0.7597395777702332)]"
      ]
     },
     "execution_count": 15,
     "metadata": {},
     "output_type": "execute_result"
    }
   ],
   "source": [
    "doc2vec_model.wv.most_similar('디카프리오', topn=10)"
   ]
  },
  {
   "cell_type": "markdown",
   "metadata": {},
   "source": [
    "##### Doc2Vec model의 dovecs 안에는 document vector와 관련된 정보들이 저장되어 있음"
   ]
  },
  {
   "cell_type": "code",
   "execution_count": 16,
   "metadata": {},
   "outputs": [
    {
     "data": {
      "text/plain": [
       "172"
      ]
     },
     "execution_count": 16,
     "metadata": {},
     "output_type": "execute_result"
    }
   ],
   "source": [
    "len(doc2vec_model.docvecs)"
   ]
  },
  {
   "cell_type": "markdown",
   "metadata": {},
   "source": [
    "##### doctags\n",
    "- offset: document vector의 임베딩 메트릭스의 row id\n",
    "- word_count :  각 태그에 해당하는 문서에 단어가 몇 개 있었는지\n",
    "- doc_count는 각 태그에 해당하는 문서가 몇번 등장하였는지 볼 수 있다."
   ]
  },
  {
   "cell_type": "code",
   "execution_count": 21,
   "metadata": {},
   "outputs": [
    {
     "data": {
      "text/plain": [
       "[('72523', Doctag(offset=0, word_count=89878, doc_count=10187)),\n",
       " ('59845', Doctag(offset=1, word_count=139795, doc_count=13095)),\n",
       " ('109753', Doctag(offset=2, word_count=200116, doc_count=10361))]"
      ]
     },
     "execution_count": 21,
     "metadata": {},
     "output_type": "execute_result"
    }
   ],
   "source": [
    "doctags = doc2vec_model.docvecs.doctags.items()\n",
    "doctags = sorted(doctags, key=lambda x:x[1].offset)\n",
    "doctags[:3]"
   ]
  },
  {
   "cell_type": "markdown",
   "metadata": {},
   "source": [
    ">- #72523 은 offset=0 은 docvec 에서의 row id 가 0 라는 의미입니다.\n",
    "\n"
   ]
  },
  {
   "cell_type": "markdown",
   "metadata": {},
   "source": [
    "### doc2vec 해석하기"
   ]
  },
  {
   "cell_type": "code",
   "execution_count": 25,
   "metadata": {},
   "outputs": [],
   "source": [
    "from lovit_textmining_dataset.navermovie_comments import load_id_to_movie\n",
    "\n",
    "idx_to_movie = load_id_to_movie()"
   ]
  },
  {
   "cell_type": "code",
   "execution_count": 58,
   "metadata": {
    "scrolled": true
   },
   "outputs": [
    {
     "name": "stdout",
     "output_type": "stream",
     "text": [
      "라라랜드\n",
      "\n",
      "('비긴 어게인', '96379', 0.9099785685539246)\n",
      "('어바웃 타임', '92075', 0.8202555179595947)\n",
      "('인턴', '118917', 0.730941891670227)\n",
      "('인사이드 아웃', '115622', 0.7061700820922852)\n",
      "('뷰티 인사이드', '129050', 0.6823891401290894)\n",
      "('레미제라블', '89755', 0.678883969783783)\n",
      "('님아, 그 강을 건너지 마오', '130013', 0.677444338798523)\n",
      "('겨울왕국', '100931', 0.6713787317276001)\n",
      "('어거스트 러쉬', '66158', 0.6653317213058472)\n",
      "('시간을 달리는 소녀', '63513', 0.6627459526062012)\n"
     ]
    }
   ],
   "source": [
    "def as_name(similar):\n",
    "    idx = similar[0]\n",
    "    return (idx_to_movie.get(idx, 'unknown'), idx, similar[1])\n",
    "\n",
    "print('라라랜드\\n')\n",
    "\n",
    "for similar in doc2vec_model.docvecs.most_similar('134963'):\n",
    "    print(as_name(similar))"
   ]
  },
  {
   "cell_type": "code",
   "execution_count": 59,
   "metadata": {
    "scrolled": true
   },
   "outputs": [
    {
     "name": "stdout",
     "output_type": "stream",
     "text": [
      "관상\n",
      "\n",
      "('역린', '108225', 0.8570507168769836)\n",
      "('광해, 왕이 된 남자', '83893', 0.8461612462997437)\n",
      "('군도:민란의 시대', '99752', 0.7632333636283875)\n",
      "('사도', '121922', 0.7572081089019775)\n",
      "('도둑들', '78726', 0.732923150062561)\n",
      "('의형제', '52548', 0.7045021057128906)\n",
      "('밀정', '137952', 0.701526403427124)\n",
      "('검사외전', '130903', 0.6976866126060486)\n",
      "('암살', '121048', 0.6912961006164551)\n",
      "('감시자들', '98146', 0.6792099475860596)\n"
     ]
    }
   ],
   "source": [
    "print('관상\\n')\n",
    "for similar in doc2vec_model.docvecs.most_similar('93728'):\n",
    "    print(as_name(similar))"
   ]
  },
  {
   "cell_type": "code",
   "execution_count": 60,
   "metadata": {},
   "outputs": [
    {
     "name": "stdout",
     "output_type": "stream",
     "text": [
      "광해 왕이된 남자\n",
      "\n",
      "('관상', '93728', 0.8461612462997437)\n",
      "('의형제', '52548', 0.7639151811599731)\n",
      "('라디오 스타', '58088', 0.7365875244140625)\n",
      "('역린', '108225', 0.7017911672592163)\n",
      "('파파로티', '85640', 0.6967229843139648)\n",
      "('사도', '121922', 0.6844784021377563)\n",
      "('완득이', '80866', 0.6789095401763916)\n",
      "('반창꼬', '91045', 0.6772838830947876)\n",
      "('왕의 남자', '39894', 0.6753106117248535)\n",
      "('시라노; 연애조작단', '73318', 0.6747324466705322)\n"
     ]
    }
   ],
   "source": [
    "print('광해 왕이된 남자\\n')\n",
    "\n",
    "for similar in doc2vec_model.docvecs.most_similar('83893'):\n",
    "    print(as_name(similar))"
   ]
  },
  {
   "cell_type": "code",
   "execution_count": 62,
   "metadata": {},
   "outputs": [
    {
     "name": "stdout",
     "output_type": "stream",
     "text": [
      "아바타\n",
      "\n",
      "('트랜스포머', '61521', 0.8483377695083618)\n",
      "('디스트릭트 9', '64129', 0.8433082699775696)\n",
      "('2012', '49727', 0.8169445395469666)\n",
      "('퍼시픽 림', '86867', 0.7704821825027466)\n",
      "('스카이라인', '76581', 0.7693696022033691)\n",
      "('인셉션', '52515', 0.7664300799369812)\n",
      "('그래비티', '47370', 0.7574100494384766)\n",
      "('트랜스포머: 패자의 역습', '68052', 0.7387325763702393)\n",
      "('트랜스포머 3', '70241', 0.7289350032806396)\n",
      "('다크 나이트', '62586', 0.7180948853492737)\n"
     ]
    }
   ],
   "source": [
    "print('아바타\\n')\n",
    "for similar in doc2vec_model.docvecs.most_similar('62266'):\n",
    "    print(as_name(similar))"
   ]
  }
 ],
 "metadata": {
  "kernelspec": {
   "display_name": "Python 3",
   "language": "python",
   "name": "python3"
  },
  "language_info": {
   "codemirror_mode": {
    "name": "ipython",
    "version": 3
   },
   "file_extension": ".py",
   "mimetype": "text/x-python",
   "name": "python",
   "nbconvert_exporter": "python",
   "pygments_lexer": "ipython3",
   "version": "3.8.5"
  }
 },
 "nbformat": 4,
 "nbformat_minor": 4
}
