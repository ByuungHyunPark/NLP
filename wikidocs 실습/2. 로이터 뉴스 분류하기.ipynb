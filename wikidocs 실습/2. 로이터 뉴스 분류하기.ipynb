{
 "cells": [
  {
   "cell_type": "raw",
   "metadata": {},
   "source": [
    "이번 챕터에서는 케라스에서 제공하는 로이터 뉴스 데이터를 LSTM을 이용하여 텍스트 분류를 진행해보도록 하겠습니다. 로이터 뉴스 기사 데이터는 총 11,258개의 뉴스 기사가 46개의 뉴스 카테고리로 분류되는 뉴스 기사 데이터입니다. 우선 데이터가 어떻게 구성되어있는지에 대해서 알아보고, 실습을 진행합니다."
   ]
  },
  {
   "cell_type": "markdown",
   "metadata": {},
   "source": [
    "##### 1. 로이터 뉴스 데이터에 대한 이해"
   ]
  },
  {
   "cell_type": "code",
   "execution_count": 1,
   "metadata": {},
   "outputs": [],
   "source": [
    "from tensorflow.keras.datasets import reuters\n",
    "%matplotlib inline\n",
    "import matplotlib.pyplot as plt\n",
    "import numpy as np\n",
    "import seaborn as sns"
   ]
  },
  {
   "cell_type": "code",
   "execution_count": 2,
   "metadata": {},
   "outputs": [],
   "source": [
    "(X_train, y_train), (X_test, y_test) = reuters.load_data(num_words=None, test_split=0.2)"
   ]
  },
  {
   "cell_type": "code",
   "execution_count": 3,
   "metadata": {},
   "outputs": [
    {
     "name": "stdout",
     "output_type": "stream",
     "text": [
      "훈련용 뉴스 기사 : 8982\n",
      "테스트용 뉴스 기사 : 2246\n",
      "카테고리 : 46\n"
     ]
    }
   ],
   "source": [
    "print('훈련용 뉴스 기사 : {}'.format(len(X_train)))\n",
    "print('테스트용 뉴스 기사 : {}'.format(len(X_test)))\n",
    "num_classes = max(y_train) + 1\n",
    "print('카테고리 : {}'.format(num_classes))"
   ]
  },
  {
   "cell_type": "markdown",
   "metadata": {},
   "source": [
    "##### 뉴스 기사의 길이 파악"
   ]
  },
  {
   "cell_type": "code",
   "execution_count": 4,
   "metadata": {},
   "outputs": [
    {
     "name": "stdout",
     "output_type": "stream",
     "text": [
      "뉴스 기사의 최대 길이 :2376\n",
      "뉴스 기사의 평균 길이 :145.5398574927633\n"
     ]
    },
    {
     "data": {
      "image/png": "[encoded data removed]",
      "text/plain": [
       "<Figure size 432x288 with 1 Axes>"
      ]
     },
     "metadata": {
      "needs_background": "light"
     },
     "output_type": "display_data"
    }
   ],
   "source": [
    "print('뉴스 기사의 최대 길이 :{}'.format(max(len(l) for l in X_train)))\n",
    "print('뉴스 기사의 평균 길이 :{}'.format(sum(map(len, X_train))/len(X_train)))\n",
    "\n",
    "plt.hist([len(s) for s in X_train], bins=50)\n",
    "plt.xlabel('length of samples')\n",
    "plt.ylabel('number of samples')\n",
    "plt.show()"
   ]
  },
  {
   "cell_type": "markdown",
   "metadata": {},
   "source": [
    "##### 뉴스 category 분포 시각화"
   ]
  },
  {
   "cell_type": "code",
   "execution_count": 5,
   "metadata": {},
   "outputs": [
    {
     "name": "stderr",
     "output_type": "stream",
     "text": [
      "C:\\Anaconda3\\lib\\site-packages\\seaborn\\_decorators.py:43: FutureWarning: Pass the following variable as a keyword arg: x. From version 0.12, the only valid positional argument will be `data`, and passing other arguments without an explicit keyword will result in an error or misinterpretation.\n",
      "  FutureWarning\n"
     ]
    },
    {
     "data": {
      "image/png": "[encoded data removed]",
      "text/plain": [
       "<Figure size 864x360 with 1 Axes>"
      ]
     },
     "metadata": {
      "needs_background": "light"
     },
     "output_type": "display_data"
    }
   ],
   "source": [
    "fig, axe = plt.subplots(ncols=1)\n",
    "fig.set_size_inches(12,5)\n",
    "sns.countplot(y_train)\n",
    "plt.show()"
   ]
  },
  {
   "cell_type": "code",
   "execution_count": 6,
   "metadata": {},
   "outputs": [
    {
     "name": "stdout",
     "output_type": "stream",
     "text": [
      "각 레이블에 대한 빈도수:\n",
      "[[   0    1    2    3    4    5    6    7    8    9   10   11   12   13\n",
      "    14   15   16   17   18   19   20   21   22   23   24   25   26   27\n",
      "    28   29   30   31   32   33   34   35   36   37   38   39   40   41\n",
      "    42   43   44   45]\n",
      " [  55  432   74 3159 1949   17   48   16  139  101  124  390   49  172\n",
      "    26   20  444   39   66  549  269  100   15   41   62   92   24   15\n",
      "    48   19   45   39   32   11   50   10   49   19   19   24   36   30\n",
      "    13   21   12   18]]\n"
     ]
    }
   ],
   "source": [
    "unique_elements, counts_elements = np.unique(y_train, return_counts=True)\n",
    "print(\"각 레이블에 대한 빈도수:\")\n",
    "print(np.asarray((unique_elements, counts_elements)))"
   ]
  },
  {
   "cell_type": "code",
   "execution_count": 7,
   "metadata": {
    "scrolled": true
   },
   "outputs": [
    {
     "name": "stdout",
     "output_type": "stream",
     "text": [
      "[('mdbl', 10996), ('fawc', 16260), ('degussa', 12089), ('woods', 8803), ('hanging', 13796), ('localized', 20672), ('sation', 20673), ('chanthaburi', 20675), ('refunding', 10997), ('hermann', 8804), ('passsengers', 20676), ('stipulate', 20677), ('heublein', 8352), ('screaming', 20713), ('tcby', 16261), ('four', 185), ('grains', 1642), ('broiler', 20680), ('wooden', 12090), ('wednesday', 1220)]\n"
     ]
    }
   ],
   "source": [
    "word_to_index = reuters.get_word_index()\n",
    "print(list(word_to_index.items())[:20])"
   ]
  },
  {
   "cell_type": "markdown",
   "metadata": {},
   "source": [
    "##### 출현빈도 상위 index 추출 용이하도록 아래와 같은 Dictionary 생성"
   ]
  },
  {
   "cell_type": "code",
   "execution_count": 8,
   "metadata": {},
   "outputs": [],
   "source": [
    "index_to_word = {}\n",
    "for key, value in word_to_index.items():\n",
    "    index_to_word[value] = key"
   ]
  },
  {
   "cell_type": "code",
   "execution_count": 9,
   "metadata": {
    "scrolled": true
   },
   "outputs": [
    {
     "name": "stdout",
     "output_type": "stream",
     "text": [
      "빈도수 상위 1번 단어 : the\n",
      "빈도수 상위 2번 단어 : of\n",
      "빈도수 상위 3번 단어 : to\n",
      "빈도수 상위 100번 단어 : group\n",
      "빈도수 상위 28842번 단어 : nondiscriminatory\n"
     ]
    }
   ],
   "source": [
    "print('빈도수 상위 1번 단어 : {}'.format(index_to_word[1]))\n",
    "print('빈도수 상위 2번 단어 : {}'.format(index_to_word[2]))\n",
    "print('빈도수 상위 3번 단어 : {}'.format(index_to_word[3]))\n",
    "print('빈도수 상위 100번 단어 : {}'.format(index_to_word[100]))\n",
    "print('빈도수 상위 28842번 단어 : {}'.format(index_to_word[28842]))"
   ]
  },
  {
   "cell_type": "code",
   "execution_count": 10,
   "metadata": {},
   "outputs": [
    {
     "name": "stdout",
     "output_type": "stream",
     "text": [
      "<sos> wattie nondiscriminatory mln loss for plc said at only ended said commonwealth could 1 traders now april 0 a after said from 1985 and from foreign 000 april 0 prices its account year a but in this mln home an states earlier and rise and revs vs 000 its 16 vs 000 a but 3 psbr oils several and shareholders and dividend vs 000 its all 4 vs 000 1 mln agreed largely april 0 are 2 states will billion total and against 000 pct dlrs\n"
     ]
    }
   ],
   "source": [
    "for index, token in enumerate((\"<pad>\", \"<sos>\", \"<unk>\")):\n",
    "    index_to_word[index]=token\n",
    "\n",
    "print(' '.join([index_to_word[index] for index in X_train[0]]))"
   ]
  },
  {
   "cell_type": "markdown",
   "metadata": {},
   "source": [
    "# 2. LSTM으로 로이터 뉴스 분류하기"
   ]
  },
  {
   "cell_type": "code",
   "execution_count": 11,
   "metadata": {},
   "outputs": [],
   "source": [
    "import tensorflow as tf\n",
    "physical_devices = tf.config.list_physical_devices('GPU')\n",
    "tf.config.experimental.set_memory_growth(physical_devices[0], enable=True)"
   ]
  },
  {
   "cell_type": "code",
   "execution_count": 12,
   "metadata": {},
   "outputs": [],
   "source": [
    "from tensorflow.keras.datasets import reuters\n",
    "from tensorflow.keras.models import Sequential\n",
    "from tensorflow.keras.layers import Dense , LSTM , Embedding\n",
    "from tensorflow.keras.preprocessing.sequence import pad_sequences\n",
    "from tensorflow.keras.utils import to_categorical\n",
    "from tensorflow.keras.callbacks import EarlyStopping, ModelCheckpoint\n",
    "from tensorflow.keras.models import load_model"
   ]
  },
  {
   "cell_type": "code",
   "execution_count": 13,
   "metadata": {},
   "outputs": [],
   "source": [
    "#빈도수 상위 1000개만 사용\n",
    "(X_train, y_train), (X_test, y_test) = reuters.load_data(num_words=1000, test_split=0.2)"
   ]
  },
  {
   "cell_type": "code",
   "execution_count": 14,
   "metadata": {},
   "outputs": [],
   "source": [
    "max_len = 100\n",
    "X_train = pad_sequences(X_train, maxlen=max_len) # 훈련용 뉴스 기사 패딩\n",
    "X_test = pad_sequences(X_test, maxlen=max_len) # 테스트용 뉴스 기사 패딩"
   ]
  },
  {
   "cell_type": "markdown",
   "metadata": {},
   "source": [
    "##### Train과 test 뉴스길이 다름 => pad_sequences를 사용하여 100개로 맞춰줌"
   ]
  },
  {
   "cell_type": "code",
   "execution_count": 15,
   "metadata": {},
   "outputs": [
    {
     "name": "stdout",
     "output_type": "stream",
     "text": [
      "(8982, 100) (2246, 100)\n"
     ]
    }
   ],
   "source": [
    "print(X_train.shape, X_test.shape)"
   ]
  },
  {
   "cell_type": "markdown",
   "metadata": {},
   "source": [
    "##### 기사 데이터의 레이블에 원-핫 인코딩"
   ]
  },
  {
   "cell_type": "code",
   "execution_count": 16,
   "metadata": {},
   "outputs": [],
   "source": [
    "y_train = to_categorical(y_train) # 훈련용 뉴스 기사 레이블의 원-핫 인코딩\n",
    "y_test = to_categorical(y_test) # 테스트용 뉴스 기사 레이블의 원-핫 인코딩"
   ]
  },
  {
   "cell_type": "code",
   "execution_count": 32,
   "metadata": {},
   "outputs": [],
   "source": [
    "model = Sequential()\n",
    "model.add(Embedding(2000, 120))\n",
    "model.add(LSTM(120))\n",
    "model.add(Dense(46, activation='softmax'))\n",
    "\n",
    "#120 차원을 가지는 임베딩 벡터를1000개 생성?"
   ]
  },
  {
   "cell_type": "code",
   "execution_count": 33,
   "metadata": {},
   "outputs": [],
   "source": [
    "es = EarlyStopping(monitor='val_loss', mode='min', verbose=1, patience=4)\n",
    "mc = ModelCheckpoint('best_model.h5', monitor='val_acc', mode='max', verbose=1, save_best_only=True)"
   ]
  },
  {
   "cell_type": "code",
   "execution_count": 34,
   "metadata": {},
   "outputs": [],
   "source": [
    "model.compile(loss='categorical_crossentropy', optimizer='adam', metrics=['acc'])"
   ]
  },
  {
   "cell_type": "code",
   "execution_count": 35,
   "metadata": {
    "scrolled": true
   },
   "outputs": [
    {
     "name": "stdout",
     "output_type": "stream",
     "text": [
      "Train on 8982 samples, validate on 2246 samples\n",
      "Epoch 1/30\n",
      "8576/8982 [===========================>..] - ETA: 0s - loss: 2.6248 - acc: 0.3460\n",
      "Epoch 00001: val_acc improved from -inf to 0.36198, saving model to best_model.h5\n",
      "8982/8982 [==============================] - 3s 283us/sample - loss: 2.6141 - acc: 0.3470 - val_loss: 2.3640 - val_acc: 0.3620\n",
      "Epoch 2/30\n",
      "8448/8982 [===========================>..] - ETA: 0s - loss: 2.1643 - acc: 0.4435\n",
      "Epoch 00002: val_acc improved from 0.36198 to 0.49332, saving model to best_model.h5\n",
      "8982/8982 [==============================] - 1s 106us/sample - loss: 2.1614 - acc: 0.4439 - val_loss: 2.0038 - val_acc: 0.4933\n",
      "Epoch 3/30\n",
      "8448/8982 [===========================>..] - ETA: 0s - loss: 1.8936 - acc: 0.5079\n",
      "Epoch 00003: val_acc improved from 0.49332 to 0.53606, saving model to best_model.h5\n",
      "8982/8982 [==============================] - 1s 108us/sample - loss: 1.8953 - acc: 0.5071 - val_loss: 1.7934 - val_acc: 0.5361\n",
      "Epoch 4/30\n",
      "8448/8982 [===========================>..] - ETA: 0s - loss: 1.7581 - acc: 0.5369\n",
      "Epoch 00004: val_acc improved from 0.53606 to 0.55833, saving model to best_model.h5\n",
      "8982/8982 [==============================] - 1s 109us/sample - loss: 1.7527 - acc: 0.5386 - val_loss: 1.7471 - val_acc: 0.5583\n",
      "Epoch 5/30\n",
      "8448/8982 [===========================>..] - ETA: 0s - loss: 1.6878 - acc: 0.5619\n",
      "Epoch 00005: val_acc did not improve from 0.55833\n",
      "8982/8982 [==============================] - 1s 104us/sample - loss: 1.6784 - acc: 0.5664 - val_loss: 1.7993 - val_acc: 0.5450\n",
      "Epoch 6/30\n",
      "8448/8982 [===========================>..] - ETA: 0s - loss: 1.5873 - acc: 0.5985\n",
      "Epoch 00006: val_acc improved from 0.55833 to 0.57881, saving model to best_model.h5\n",
      "8982/8982 [==============================] - 1s 107us/sample - loss: 1.5903 - acc: 0.5966 - val_loss: 1.6540 - val_acc: 0.5788\n",
      "Epoch 7/30\n",
      "8448/8982 [===========================>..] - ETA: 0s - loss: 1.4923 - acc: 0.6133\n",
      "Epoch 00007: val_acc improved from 0.57881 to 0.60730, saving model to best_model.h5\n",
      "8982/8982 [==============================] - 1s 108us/sample - loss: 1.4889 - acc: 0.6157 - val_loss: 1.5556 - val_acc: 0.6073\n",
      "Epoch 8/30\n",
      "8448/8982 [===========================>..] - ETA: 0s - loss: 1.4188 - acc: 0.6288\n",
      "Epoch 00008: val_acc improved from 0.60730 to 0.62066, saving model to best_model.h5\n",
      "8982/8982 [==============================] - 1s 107us/sample - loss: 1.4186 - acc: 0.6294 - val_loss: 1.4799 - val_acc: 0.6207\n",
      "Epoch 9/30\n",
      "8448/8982 [===========================>..] - ETA: 0s - loss: 1.3226 - acc: 0.6539\n",
      "Epoch 00009: val_acc improved from 0.62066 to 0.64426, saving model to best_model.h5\n",
      "8982/8982 [==============================] - 1s 109us/sample - loss: 1.3257 - acc: 0.6536 - val_loss: 1.4129 - val_acc: 0.6443\n",
      "Epoch 10/30\n",
      "8960/8982 [============================>.] - ETA: 0s - loss: 1.2354 - acc: 0.6806\n",
      "Epoch 00010: val_acc improved from 0.64426 to 0.65450, saving model to best_model.h5\n",
      "8982/8982 [==============================] - 1s 109us/sample - loss: 1.2373 - acc: 0.6802 - val_loss: 1.3692 - val_acc: 0.6545\n",
      "Epoch 11/30\n",
      "8448/8982 [===========================>..] - ETA: 0s - loss: 1.2022 - acc: 0.6912\n",
      "Epoch 00011: val_acc did not improve from 0.65450\n",
      "8982/8982 [==============================] - 1s 105us/sample - loss: 1.1973 - acc: 0.6918 - val_loss: 1.3618 - val_acc: 0.6447\n",
      "Epoch 12/30\n",
      "8448/8982 [===========================>..] - ETA: 0s - loss: 1.1312 - acc: 0.7126\n",
      "Epoch 00012: val_acc improved from 0.65450 to 0.65895, saving model to best_model.h5\n",
      "8982/8982 [==============================] - 1s 107us/sample - loss: 1.1319 - acc: 0.7123 - val_loss: 1.3235 - val_acc: 0.6589\n",
      "Epoch 13/30\n",
      "8448/8982 [===========================>..] - ETA: 0s - loss: 1.0920 - acc: 0.7211\n",
      "Epoch 00013: val_acc improved from 0.65895 to 0.66963, saving model to best_model.h5\n",
      "8982/8982 [==============================] - 1s 107us/sample - loss: 1.0896 - acc: 0.7207 - val_loss: 1.2913 - val_acc: 0.6696\n",
      "Epoch 14/30\n",
      "8448/8982 [===========================>..] - ETA: 0s - loss: 1.0655 - acc: 0.7269\n",
      "Epoch 00014: val_acc improved from 0.66963 to 0.67142, saving model to best_model.h5\n",
      "8982/8982 [==============================] - 1s 108us/sample - loss: 1.0621 - acc: 0.7278 - val_loss: 1.2807 - val_acc: 0.6714\n",
      "Epoch 15/30\n",
      "8448/8982 [===========================>..] - ETA: 0s - loss: 1.0009 - acc: 0.7449\n",
      "Epoch 00015: val_acc improved from 0.67142 to 0.68967, saving model to best_model.h5\n",
      "8982/8982 [==============================] - 1s 107us/sample - loss: 1.0059 - acc: 0.7426 - val_loss: 1.2419 - val_acc: 0.6897\n",
      "Epoch 16/30\n",
      "8448/8982 [===========================>..] - ETA: 0s - loss: 0.9460 - acc: 0.7592\n",
      "Epoch 00016: val_acc improved from 0.68967 to 0.69991, saving model to best_model.h5\n",
      "8982/8982 [==============================] - 1s 110us/sample - loss: 0.9474 - acc: 0.7577 - val_loss: 1.2337 - val_acc: 0.6999\n",
      "Epoch 17/30\n",
      "8448/8982 [===========================>..] - ETA: 0s - loss: 0.9151 - acc: 0.7681\n",
      "Epoch 00017: val_acc did not improve from 0.69991\n",
      "8982/8982 [==============================] - 1s 106us/sample - loss: 0.9162 - acc: 0.7668 - val_loss: 1.2284 - val_acc: 0.6986\n",
      "Epoch 18/30\n",
      "8448/8982 [===========================>..] - ETA: 0s - loss: 0.8724 - acc: 0.7782\n",
      "Epoch 00018: val_acc did not improve from 0.69991\n",
      "8982/8982 [==============================] - 1s 105us/sample - loss: 0.8784 - acc: 0.7762 - val_loss: 1.2570 - val_acc: 0.6950\n",
      "Epoch 19/30\n",
      "8960/8982 [============================>.] - ETA: 0s - loss: 0.8524 - acc: 0.7814\n",
      "Epoch 00019: val_acc improved from 0.69991 to 0.70214, saving model to best_model.h5\n",
      "8982/8982 [==============================] - 1s 109us/sample - loss: 0.8536 - acc: 0.7812 - val_loss: 1.2439 - val_acc: 0.7021\n",
      "Epoch 20/30\n",
      "8448/8982 [===========================>..] - ETA: 0s - loss: 0.8274 - acc: 0.7898\n",
      "Epoch 00020: val_acc improved from 0.70214 to 0.70659, saving model to best_model.h5\n",
      "8982/8982 [==============================] - 1s 109us/sample - loss: 0.8291 - acc: 0.7894 - val_loss: 1.2221 - val_acc: 0.7066\n",
      "Epoch 21/30\n",
      "8448/8982 [===========================>..] - ETA: 0s - loss: 0.7723 - acc: 0.8040\n",
      "Epoch 00021: val_acc did not improve from 0.70659\n",
      "8982/8982 [==============================] - 1s 104us/sample - loss: 0.7739 - acc: 0.8041 - val_loss: 1.2418 - val_acc: 0.7017\n",
      "Epoch 22/30\n",
      "8960/8982 [============================>.] - ETA: 0s - loss: 0.7503 - acc: 0.8103\n",
      "Epoch 00022: val_acc did not improve from 0.70659\n",
      "8982/8982 [==============================] - 1s 106us/sample - loss: 0.7500 - acc: 0.8104 - val_loss: 1.2639 - val_acc: 0.7030\n",
      "Epoch 23/30\n",
      "8448/8982 [===========================>..] - ETA: 0s - loss: 0.7305 - acc: 0.8170\n",
      "Epoch 00023: val_acc improved from 0.70659 to 0.71193, saving model to best_model.h5\n",
      "8982/8982 [==============================] - 1s 109us/sample - loss: 0.7273 - acc: 0.8171 - val_loss: 1.2677 - val_acc: 0.7119\n",
      "Epoch 24/30\n",
      "8832/8982 [============================>.] - ETA: 0s - loss: 0.6974 - acc: 0.8221\n",
      "Epoch 00024: val_acc did not improve from 0.71193\n",
      "8982/8982 [==============================] - 1s 106us/sample - loss: 0.6968 - acc: 0.8220 - val_loss: 1.2521 - val_acc: 0.7110\n",
      "Epoch 00024: early stopping\n"
     ]
    }
   ],
   "source": [
    "history = model.fit(X_train, y_train, batch_size=128, epochs=30, callbacks=[es, mc], validation_data=(X_test, y_test))"
   ]
  },
  {
   "cell_type": "markdown",
   "metadata": {},
   "source": [
    "##### 이유는 도저히 못찾앗지만 , early stopping을 통해 저장한 모델을 load 과정에서 막힘\n",
    "- 오류명 없이 oserror만 발생함 => 구글링했는데 유사한 에러 경우가 거의없음"
   ]
  },
  {
   "cell_type": "code",
   "execution_count": 36,
   "metadata": {},
   "outputs": [
    {
     "ename": "OSError",
     "evalue": "",
     "output_type": "error",
     "traceback": [
      "\u001b[1;31m---------------------------------------------------------------------------\u001b[0m",
      "\u001b[1;31mOSError\u001b[0m                                   Traceback (most recent call last)",
      "\u001b[1;32m<ipython-input-36-d9b5bb19b28c>\u001b[0m in \u001b[0;36m<module>\u001b[1;34m\u001b[0m\n\u001b[1;32m----> 1\u001b[1;33m \u001b[0mloaded_model\u001b[0m \u001b[1;33m=\u001b[0m \u001b[0mload_model\u001b[0m\u001b[1;33m(\u001b[0m\u001b[1;34m'best_model.h5'\u001b[0m\u001b[1;33m)\u001b[0m\u001b[1;33m\u001b[0m\u001b[1;33m\u001b[0m\u001b[0m\n\u001b[0m\u001b[0;32m      2\u001b[0m \u001b[0mprint\u001b[0m\u001b[1;33m(\u001b[0m\u001b[1;34m\"\\n 테스트 정확도: %.4f\"\u001b[0m \u001b[1;33m%\u001b[0m \u001b[1;33m(\u001b[0m\u001b[0mloaded_model\u001b[0m\u001b[1;33m.\u001b[0m\u001b[0mevaluate\u001b[0m\u001b[1;33m(\u001b[0m\u001b[0mX_test\u001b[0m\u001b[1;33m,\u001b[0m \u001b[0my_test\u001b[0m\u001b[1;33m)\u001b[0m\u001b[1;33m[\u001b[0m\u001b[1;36m1\u001b[0m\u001b[1;33m]\u001b[0m\u001b[1;33m)\u001b[0m\u001b[1;33m)\u001b[0m\u001b[1;33m\u001b[0m\u001b[1;33m\u001b[0m\u001b[0m\n",
      "\u001b[1;32mC:\\Anaconda3\\lib\\site-packages\\tensorflow_core\\python\\keras\\saving\\save.py\u001b[0m in \u001b[0;36mload_model\u001b[1;34m(filepath, custom_objects, compile)\u001b[0m\n\u001b[0;32m    143\u001b[0m   \"\"\"\n\u001b[0;32m    144\u001b[0m   if (h5py is not None and (\n\u001b[1;32m--> 145\u001b[1;33m       isinstance(filepath, h5py.File) or h5py.is_hdf5(filepath))):\n\u001b[0m\u001b[0;32m    146\u001b[0m     \u001b[1;32mreturn\u001b[0m \u001b[0mhdf5_format\u001b[0m\u001b[1;33m.\u001b[0m\u001b[0mload_model_from_hdf5\u001b[0m\u001b[1;33m(\u001b[0m\u001b[0mfilepath\u001b[0m\u001b[1;33m,\u001b[0m \u001b[0mcustom_objects\u001b[0m\u001b[1;33m,\u001b[0m \u001b[0mcompile\u001b[0m\u001b[1;33m)\u001b[0m\u001b[1;33m\u001b[0m\u001b[1;33m\u001b[0m\u001b[0m\n\u001b[0;32m    147\u001b[0m \u001b[1;33m\u001b[0m\u001b[0m\n",
      "\u001b[1;32mC:\\Anaconda3\\lib\\site-packages\\h5py\\_hl\\base.py\u001b[0m in \u001b[0;36mis_hdf5\u001b[1;34m(fname)\u001b[0m\n\u001b[0;32m     42\u001b[0m \u001b[1;33m\u001b[0m\u001b[0m\n\u001b[0;32m     43\u001b[0m         \u001b[1;32mif\u001b[0m \u001b[0mos\u001b[0m\u001b[1;33m.\u001b[0m\u001b[0mpath\u001b[0m\u001b[1;33m.\u001b[0m\u001b[0misfile\u001b[0m\u001b[1;33m(\u001b[0m\u001b[0mfname\u001b[0m\u001b[1;33m)\u001b[0m\u001b[1;33m:\u001b[0m\u001b[1;33m\u001b[0m\u001b[1;33m\u001b[0m\u001b[0m\n\u001b[1;32m---> 44\u001b[1;33m             \u001b[1;32mreturn\u001b[0m \u001b[0mh5f\u001b[0m\u001b[1;33m.\u001b[0m\u001b[0mis_hdf5\u001b[0m\u001b[1;33m(\u001b[0m\u001b[0mfilename_encode\u001b[0m\u001b[1;33m(\u001b[0m\u001b[0mfname\u001b[0m\u001b[1;33m)\u001b[0m\u001b[1;33m)\u001b[0m\u001b[1;33m\u001b[0m\u001b[1;33m\u001b[0m\u001b[0m\n\u001b[0m\u001b[0;32m     45\u001b[0m         \u001b[1;32mreturn\u001b[0m \u001b[1;32mFalse\u001b[0m\u001b[1;33m\u001b[0m\u001b[1;33m\u001b[0m\u001b[0m\n\u001b[0;32m     46\u001b[0m \u001b[1;33m\u001b[0m\u001b[0m\n",
      "\u001b[1;32mh5py\\_objects.pyx\u001b[0m in \u001b[0;36mh5py._objects.with_phil.wrapper\u001b[1;34m()\u001b[0m\n",
      "\u001b[1;32mh5py\\_objects.pyx\u001b[0m in \u001b[0;36mh5py._objects.with_phil.wrapper\u001b[1;34m()\u001b[0m\n",
      "\u001b[1;32mh5py\\h5f.pyx\u001b[0m in \u001b[0;36mh5py.h5f.is_hdf5\u001b[1;34m()\u001b[0m\n",
      "\u001b[1;31mOSError\u001b[0m: "
     ]
    }
   ],
   "source": [
    "loaded_model = load_model('best_model.h5')\n",
    "print(\"\\n 테스트 정확도: %.4f\" % (loaded_model.evaluate(X_test, y_test)[1]))"
   ]
  },
  {
   "cell_type": "code",
   "execution_count": 37,
   "metadata": {},
   "outputs": [
    {
     "data": {
      "image/png": "[encoded data removed]",
      "text/plain": [
       "<Figure size 432x288 with 1 Axes>"
      ]
     },
     "metadata": {
      "needs_background": "light"
     },
     "output_type": "display_data"
    }
   ],
   "source": [
    "epochs = range(1, len(history.history['acc']) + 1)\n",
    "plt.plot(epochs, history.history['loss'])\n",
    "plt.plot(epochs, history.history['val_loss'])\n",
    "plt.title('model loss')\n",
    "plt.ylabel('loss')\n",
    "plt.xlabel('epoch')\n",
    "plt.legend(['train', 'test'], loc='upper left')\n",
    "plt.show()"
   ]
  },
  {
   "cell_type": "code",
   "execution_count": 47,
   "metadata": {},
   "outputs": [
    {
     "name": "stdout",
     "output_type": "stream",
     "text": [
      "정확도 :  0.71104187\n"
     ]
    }
   ],
   "source": [
    "print('정확도 : ' , model.history.history['val_acc'][-1])"
   ]
  },
  {
   "cell_type": "code",
   "execution_count": null,
   "metadata": {},
   "outputs": [],
   "source": []
  }
 ],
 "metadata": {
  "kernelspec": {
   "display_name": "Python 3",
   "language": "python",
   "name": "python3"
  },
  "language_info": {
   "codemirror_mode": {
    "name": "ipython",
    "version": 3
   },
   "file_extension": ".py",
   "mimetype": "text/x-python",
   "name": "python",
   "nbconvert_exporter": "python",
   "pygments_lexer": "ipython3",
   "version": "3.7.8"
  }
 },
 "nbformat": 4,
 "nbformat_minor": 4
}
